{
 "cells": [
  {
   "cell_type": "code",
   "execution_count": null,
   "metadata": {},
   "outputs": [],
   "source": [
    "import pandas as pd\n",
    "import yaml\n",
    "from PIL import Image\n",
    "import numpy\n",
    "from torchvision import transforms\n",
    "import sys\n",
    "import matplotlib.pyplot as plt\n",
    "import plotnine as pl\n",
    "import seaborn as sns\n",
    "# import math\n",
    "import textwrap\n",
    "from tqdm import tqdm\n",
    "\n",
    "sys.path.append('../')\n",
    "\n",
    "from train import create_dataloader, load_model\n",
    "from dataset import MDclassDataset\n",
    "\n",
    "import torch\n",
    "\n",
    "split_name = \"frac1.0_split0.3\"\n",
    "config_name = \"resnet18\"\n",
    "run_name = \"2025-01-22_01-26-42_resnet18_200e_256bs_0.0001lr_0.0wd_frac1.0_split0.3\"\n",
    "model_name = \"resnet18\"\n",
    "!pwd"
   ]
  },
  {
   "cell_type": "code",
   "execution_count": 84,
   "metadata": {},
   "outputs": [],
   "source": [
    "dat_train = pd.read_csv(f\"~/Documents/cv4e/CV4E-2025/data/tabular/splits/{split_name}/dat_train.csv\")\n",
    "dat_val = pd.read_csv(f\"~/Documents/cv4e/CV4E-2025/data/tabular/splits/{split_name}/dat_val.csv\")\n",
    "dat_test = pd.read_csv(f\"~/Documents/cv4e/CV4E-2025/data/tabular/splits/{split_name}/dat_test.csv\")\n",
    "\n",
    "lookup = pd.read_csv(\"~/Documents/cv4e/CV4E-2025/data/tabular/labels_lookup.csv\")\n",
    "cfg = yaml.safe_load(open(f\"../runs/{run_name}/{run_name}_config.yaml\", \"r\"))"
   ]
  },
  {
   "cell_type": "code",
   "execution_count": null,
   "metadata": {},
   "outputs": [],
   "source": [
    "dat_train[[\"label_group\", \"label_id\"]].drop_duplicates()\n",
    "# len(dat_test.label_id.unique())\n",
    "dat_val.shape\n",
    "dat_train.label_id\n",
    "dat_val[[\"label_group\", \"label_id\"]].drop_duplicates()\n",
    "n_class = dat_train.label_id.nunique()\n",
    "n_class"
   ]
  },
  {
   "cell_type": "code",
   "execution_count": null,
   "metadata": {},
   "outputs": [],
   "source": [
    "list(1/(dat_train.label_id.value_counts()/max(dat_train.label_id.value_counts())))"
   ]
  },
  {
   "cell_type": "code",
   "execution_count": null,
   "metadata": {},
   "outputs": [],
   "source": [
    "dl_train = create_dataloader(cfg, dat_train.crop_path, dat_train.label_id)\n",
    "dl_val = create_dataloader(cfg, dat_val.crop_path, dat_val.label_id)\n",
    "instance=next(iter(dl_train))\n",
    "ims = [instance[\"image\"][x] for x in range(len(instance[\"image\"]))]\n",
    "labs = [instance[\"label\"][x] for x in range(len(instance[\"label\"]))]\n",
    "labs = [lookup.query(f'label_id == {x}').iloc[0,0] for x in [x.numpy() for x in labs]]\n",
    "invTrans = transforms.Compose([ transforms.Normalize(mean = [ 0., 0., 0. ],\n",
    "                                                     std = [ 1/0.229, 1/0.224, 1/0.225 ]),\n",
    "                                transforms.Normalize(mean = [ -0.485, -0.456, -0.406 ],\n",
    "                                                     std = [ 1., 1., 1. ]),\n",
    "                               ])\n",
    "\n",
    "ims = [invTrans(ims[x]) for x in range(len(ims))]\n",
    "Image.fromarray((255*numpy.transpose(ims[0].numpy(), (1,2,0))).astype(numpy.uint8))\n",
    "ims_pil = [Image.fromarray((255*numpy.transpose(ims[x].numpy(), (1,2,0))).astype(numpy.uint8)) for x in range(len(ims))]\n",
    "ims_pil[0]"
   ]
  },
  {
   "cell_type": "code",
   "execution_count": 89,
   "metadata": {},
   "outputs": [],
   "source": [
    "def display_images(\n",
    "    images, labs,\n",
    "    columns=5, width=20, height=8, max_images=1000000, \n",
    "    label_wrap_length=50, label_font_size=30):\n",
    "\n",
    "    if not images:\n",
    "        print(\"No images to display.\")\n",
    "        return \n",
    "\n",
    "    if len(images) > max_images:\n",
    "        print(f\"Showing {max_images} images of {len(images)}:\")\n",
    "        images=images[0:max_images]\n",
    "\n",
    "    height = max(height, int(len(images)/columns) * height)\n",
    "    plt.figure(figsize=(width, height))\n",
    "    for i, image in enumerate(images):\n",
    "\n",
    "        plt.subplot(int(len(images) / columns + 1), columns, i + 1)\n",
    "        plt.imshow(image)\n",
    "\n",
    "        title=textwrap.wrap(labs[i], label_wrap_length)\n",
    "        title=\"\\n\".join(title)\n",
    "        plt.title(title, fontsize=label_font_size); \n",
    "\n",
    "# display_images(ims_pil, labs)"
   ]
  },
  {
   "cell_type": "code",
   "execution_count": null,
   "metadata": {},
   "outputs": [],
   "source": [
    "state = torch.load(\n",
    "            open(f\"/home/Vale/Documents/cv4e/CV4E-2025/runs/{run_name}/best.pt\", \"rb\"), map_location=\"cpu\", \n",
    "            weights_only=True\n",
    "        )\n",
    "state[\"epoch\"]"
   ]
  },
  {
   "cell_type": "code",
   "execution_count": null,
   "metadata": {},
   "outputs": [],
   "source": [
    "model = load_model(cfg, n_class)[0]\n",
    "model.load_state_dict(state[\"model\"])\n",
    "# model"
   ]
  },
  {
   "cell_type": "code",
   "execution_count": null,
   "metadata": {},
   "outputs": [],
   "source": [
    "preds = model(instance[\"image\"])\n",
    "preds\n",
    "\n",
    "preds_id = list(preds.argmax(axis=1).numpy())\n",
    "preds_id[0:10]\n",
    "preds_labs = [lookup.at[x, 'label_group'] for x in preds_id]\n",
    "preds_labs[0:10]\n",
    "truth_preds_labs = [\"T:\" + x + \" - \" + \"P:\" + y for x, y in zip(labs, preds_labs)]\n",
    "truth_preds_labs[0:10]\n",
    "\n",
    "display_images(ims_pil, truth_preds_labs, label_font_size=15)"
   ]
  },
  {
   "cell_type": "code",
   "execution_count": null,
   "metadata": {},
   "outputs": [],
   "source": [
    "instance=next(iter(dl_val))\n",
    "ims = [instance[\"image\"][x] for x in range(len(instance[\"image\"]))]\n",
    "labs = [instance[\"label\"][x] for x in range(len(instance[\"label\"]))]\n",
    "labs = [lookup.query(f'label_id == {x}').iloc[0,0] for x in [x.numpy() for x in labs]]\n",
    "ims = [invTrans(ims[x]) for x in range(len(ims))]\n",
    "ims_pil = [Image.fromarray((255*numpy.transpose(ims[x].numpy(), (1,2,0))).astype(numpy.uint8)) for x in range(len(ims))]\n",
    "preds = model(instance[\"image\"])\n",
    "preds_id = list(preds.argmax(axis=1).numpy())\n",
    "preds_labs = [lookup.at[x, 'label_group'] for x in preds_id]\n",
    "true_preds_labs = [\"T:\" + x + \" - \" + \"P:\" + y for x, y in zip(labs, preds_labs)]\n",
    "display_images(ims_pil, true_preds_labs, label_font_size=15)"
   ]
  },
  {
   "cell_type": "code",
   "execution_count": null,
   "metadata": {},
   "outputs": [],
   "source": [
    "device = \"cuda\"\n",
    "all_predictions = []\n",
    "all_labels = []\n",
    "model.eval()\n",
    "model.to(device)\n",
    "with torch.no_grad():\n",
    "    for batch_n, batch in tqdm(enumerate(dl_train), total = len(dl_train)):\n",
    "        # put data and labels on device\n",
    "        data, labels = batch[\"image\"].to(device), batch[\"label\"].to(device)\n",
    "\n",
    "        # forward pass\n",
    "        all_predictions.extend(model(data).cpu().numpy())\n",
    "        all_labels.extend(labels.cpu().numpy())"
   ]
  },
  {
   "cell_type": "code",
   "execution_count": null,
   "metadata": {},
   "outputs": [],
   "source": [
    "all_predictions"
   ]
  },
  {
   "cell_type": "code",
   "execution_count": 82,
   "metadata": {},
   "outputs": [],
   "source": [
    "softmax = torch.logit(torch.softmax(torch.tensor(all_predictions), dim =1))\n",
    "preds = pd.DataFrame(softmax, columns=lookup.label_group).assign(label_id=all_labels).merge(lookup).drop([\"label_id\", \"size\"], axis=1)\n",
    "preds.to_csv(\"../outputs/predictions.csv\")"
   ]
  }
 ],
 "metadata": {
  "kernelspec": {
   "display_name": "cv4e",
   "language": "python",
   "name": "python3"
  },
  "language_info": {
   "codemirror_mode": {
    "name": "ipython",
    "version": 3
   },
   "file_extension": ".py",
   "mimetype": "text/x-python",
   "name": "python",
   "nbconvert_exporter": "python",
   "pygments_lexer": "ipython3",
   "version": "3.12.2"
  }
 },
 "nbformat": 4,
 "nbformat_minor": 2
}
